{
  "nbformat": 4,
  "nbformat_minor": 0,
  "metadata": {
    "colab": {
      "name": "ML_Assignment_04_RNN/LSTM.ipynb",
      "provenance": [],
      "collapsed_sections": [],
      "mount_file_id": "1Sr05egylJw_lpN-Kz7VFiLJE1TkNpzOd",
      "authorship_tag": "ABX9TyPnObj16sOWg+6tQoYw2jqp",
      "include_colab_link": true
    },
    "kernelspec": {
      "name": "python3",
      "display_name": "Python 3"
    },
    "language_info": {
      "name": "python"
    }
  },
  "cells": [
    {
      "cell_type": "markdown",
      "metadata": {
        "id": "view-in-github",
        "colab_type": "text"
      },
      "source": [
        "<a href=\"https://colab.research.google.com/github/EricCallaway/COSC_6315_A04_RNN-LSTM/blob/main/ML_Assignment_04_RNN_LSTM.ipynb\" target=\"_parent\"><img src=\"https://colab.research.google.com/assets/colab-badge.svg\" alt=\"Open In Colab\"/></a>"
      ]
    },
    {
      "cell_type": "markdown",
      "source": [
        "1. Import necessary Libraries"
      ],
      "metadata": {
        "id": "6RDdzh9DX-E8"
      }
    },
    {
      "cell_type": "code",
      "execution_count": 85,
      "metadata": {
        "colab": {
          "base_uri": "https://localhost:8080/"
        },
        "id": "1uumK2-9Xmvw",
        "outputId": "8fbbf058-9204-4595-cde9-fff72b9d8382"
      },
      "outputs": [
        {
          "output_type": "stream",
          "name": "stderr",
          "text": [
            "[nltk_data] Downloading package stopwords to /root/nltk_data...\n",
            "[nltk_data]   Package stopwords is already up-to-date!\n",
            "[nltk_data] Downloading package punkt to /root/nltk_data...\n",
            "[nltk_data]   Package punkt is already up-to-date!\n",
            "[nltk_data] Downloading package wordnet to /root/nltk_data...\n",
            "[nltk_data]   Package wordnet is already up-to-date!\n"
          ]
        },
        {
          "output_type": "execute_result",
          "data": {
            "text/plain": [
              "True"
            ]
          },
          "metadata": {},
          "execution_count": 85
        }
      ],
      "source": [
        "import tensorflow as tf\n",
        "from tensorflow import keras\n",
        "import matplotlib.pyplot as plt\n",
        "import pandas as pd\n",
        "import numpy as np\n",
        "import seaborn as sns\n",
        "import sklearn\n",
        "import nltk\n",
        "from imblearn.over_sampling import SMOTE\n",
        "from nltk.stem import WordNetLemmatizer\n",
        "from sklearn.model_selection import train_test_split\n",
        "import re\n",
        "import string\n",
        "\n",
        "from sklearn.feature_extraction.text import CountVectorizer\n",
        "\n",
        "from nltk.stem import WordNetLemmatizer\n",
        "from nltk import word_tokenize\n",
        "from nltk.corpus import stopwords\n",
        "from nltk import word_tokenize\n",
        "nltk.download('stopwords')\n",
        "nltk.download('punkt')\n",
        "nltk.download('wordnet')\n"
      ]
    },
    {
      "cell_type": "markdown",
      "source": [
        "2. Import Dataset"
      ],
      "metadata": {
        "id": "sqmItVVhYCt7"
      }
    },
    {
      "cell_type": "code",
      "source": [
        "from google.colab import drive\n",
        "drive.mount('/content/drive', force_remount=False)\n"
      ],
      "metadata": {
        "colab": {
          "base_uri": "https://localhost:8080/"
        },
        "id": "DfBaGZEdYAVt",
        "outputId": "580d82e7-0c9a-4374-8786-f547230b7bc3"
      },
      "execution_count": 2,
      "outputs": [
        {
          "output_type": "stream",
          "name": "stdout",
          "text": [
            "Mounted at /content/drive\n"
          ]
        }
      ]
    },
    {
      "cell_type": "code",
      "source": [
        "train_csv = '/content/drive/MyDrive/Data/ML_A04_Dataset/SMS_train.csv'\n",
        "df = pd.read_csv(train_csv, encoding=\"ISO-8859-1\")"
      ],
      "metadata": {
        "id": "l6pGSuLSYD7U"
      },
      "execution_count": 65,
      "outputs": []
    },
    {
      "cell_type": "code",
      "source": [
        "print(df.head())"
      ],
      "metadata": {
        "colab": {
          "base_uri": "https://localhost:8080/"
        },
        "id": "WkJMm7Y1ZO0G",
        "outputId": "2078fa63-facc-4ac9-b401-0ff6f276fedc"
      },
      "execution_count": 66,
      "outputs": [
        {
          "output_type": "stream",
          "name": "stdout",
          "text": [
            "   S. No.                                       Message_body     Label\n",
            "0       1                         Rofl. Its true to its name  Non-Spam\n",
            "1       2  The guy did some bitching but I acted like i'd...  Non-Spam\n",
            "2       3  Pity, * was in mood for that. So...any other s...  Non-Spam\n",
            "3       4               Will ü b going to esplanade fr home?  Non-Spam\n",
            "4       5  This is the 2nd time we have tried 2 contact u...      Spam\n"
          ]
        }
      ]
    },
    {
      "cell_type": "code",
      "source": [
        "# calculating length of each record in our df\n",
        "df['length'] = df['Message_body'].apply(lambda x: len(x))\n",
        "df.head()"
      ],
      "metadata": {
        "colab": {
          "base_uri": "https://localhost:8080/",
          "height": 206
        },
        "id": "h4_Hn9id42wj",
        "outputId": "5a2bded3-50b3-4883-e2a8-d2d62d823da5"
      },
      "execution_count": 67,
      "outputs": [
        {
          "output_type": "execute_result",
          "data": {
            "text/plain": [
              "   S. No.                                       Message_body     Label  length\n",
              "0       1                         Rofl. Its true to its name  Non-Spam      26\n",
              "1       2  The guy did some bitching but I acted like i'd...  Non-Spam     125\n",
              "2       3  Pity, * was in mood for that. So...any other s...  Non-Spam      57\n",
              "3       4               Will ü b going to esplanade fr home?  Non-Spam      36\n",
              "4       5  This is the 2nd time we have tried 2 contact u...      Spam     160"
            ],
            "text/html": [
              "\n",
              "  <div id=\"df-e397ef62-d9d8-4df0-b825-a6e80eb12bf6\">\n",
              "    <div class=\"colab-df-container\">\n",
              "      <div>\n",
              "<style scoped>\n",
              "    .dataframe tbody tr th:only-of-type {\n",
              "        vertical-align: middle;\n",
              "    }\n",
              "\n",
              "    .dataframe tbody tr th {\n",
              "        vertical-align: top;\n",
              "    }\n",
              "\n",
              "    .dataframe thead th {\n",
              "        text-align: right;\n",
              "    }\n",
              "</style>\n",
              "<table border=\"1\" class=\"dataframe\">\n",
              "  <thead>\n",
              "    <tr style=\"text-align: right;\">\n",
              "      <th></th>\n",
              "      <th>S. No.</th>\n",
              "      <th>Message_body</th>\n",
              "      <th>Label</th>\n",
              "      <th>length</th>\n",
              "    </tr>\n",
              "  </thead>\n",
              "  <tbody>\n",
              "    <tr>\n",
              "      <th>0</th>\n",
              "      <td>1</td>\n",
              "      <td>Rofl. Its true to its name</td>\n",
              "      <td>Non-Spam</td>\n",
              "      <td>26</td>\n",
              "    </tr>\n",
              "    <tr>\n",
              "      <th>1</th>\n",
              "      <td>2</td>\n",
              "      <td>The guy did some bitching but I acted like i'd...</td>\n",
              "      <td>Non-Spam</td>\n",
              "      <td>125</td>\n",
              "    </tr>\n",
              "    <tr>\n",
              "      <th>2</th>\n",
              "      <td>3</td>\n",
              "      <td>Pity, * was in mood for that. So...any other s...</td>\n",
              "      <td>Non-Spam</td>\n",
              "      <td>57</td>\n",
              "    </tr>\n",
              "    <tr>\n",
              "      <th>3</th>\n",
              "      <td>4</td>\n",
              "      <td>Will ü b going to esplanade fr home?</td>\n",
              "      <td>Non-Spam</td>\n",
              "      <td>36</td>\n",
              "    </tr>\n",
              "    <tr>\n",
              "      <th>4</th>\n",
              "      <td>5</td>\n",
              "      <td>This is the 2nd time we have tried 2 contact u...</td>\n",
              "      <td>Spam</td>\n",
              "      <td>160</td>\n",
              "    </tr>\n",
              "  </tbody>\n",
              "</table>\n",
              "</div>\n",
              "      <button class=\"colab-df-convert\" onclick=\"convertToInteractive('df-e397ef62-d9d8-4df0-b825-a6e80eb12bf6')\"\n",
              "              title=\"Convert this dataframe to an interactive table.\"\n",
              "              style=\"display:none;\">\n",
              "        \n",
              "  <svg xmlns=\"http://www.w3.org/2000/svg\" height=\"24px\"viewBox=\"0 0 24 24\"\n",
              "       width=\"24px\">\n",
              "    <path d=\"M0 0h24v24H0V0z\" fill=\"none\"/>\n",
              "    <path d=\"M18.56 5.44l.94 2.06.94-2.06 2.06-.94-2.06-.94-.94-2.06-.94 2.06-2.06.94zm-11 1L8.5 8.5l.94-2.06 2.06-.94-2.06-.94L8.5 2.5l-.94 2.06-2.06.94zm10 10l.94 2.06.94-2.06 2.06-.94-2.06-.94-.94-2.06-.94 2.06-2.06.94z\"/><path d=\"M17.41 7.96l-1.37-1.37c-.4-.4-.92-.59-1.43-.59-.52 0-1.04.2-1.43.59L10.3 9.45l-7.72 7.72c-.78.78-.78 2.05 0 2.83L4 21.41c.39.39.9.59 1.41.59.51 0 1.02-.2 1.41-.59l7.78-7.78 2.81-2.81c.8-.78.8-2.07 0-2.86zM5.41 20L4 18.59l7.72-7.72 1.47 1.35L5.41 20z\"/>\n",
              "  </svg>\n",
              "      </button>\n",
              "      \n",
              "  <style>\n",
              "    .colab-df-container {\n",
              "      display:flex;\n",
              "      flex-wrap:wrap;\n",
              "      gap: 12px;\n",
              "    }\n",
              "\n",
              "    .colab-df-convert {\n",
              "      background-color: #E8F0FE;\n",
              "      border: none;\n",
              "      border-radius: 50%;\n",
              "      cursor: pointer;\n",
              "      display: none;\n",
              "      fill: #1967D2;\n",
              "      height: 32px;\n",
              "      padding: 0 0 0 0;\n",
              "      width: 32px;\n",
              "    }\n",
              "\n",
              "    .colab-df-convert:hover {\n",
              "      background-color: #E2EBFA;\n",
              "      box-shadow: 0px 1px 2px rgba(60, 64, 67, 0.3), 0px 1px 3px 1px rgba(60, 64, 67, 0.15);\n",
              "      fill: #174EA6;\n",
              "    }\n",
              "\n",
              "    [theme=dark] .colab-df-convert {\n",
              "      background-color: #3B4455;\n",
              "      fill: #D2E3FC;\n",
              "    }\n",
              "\n",
              "    [theme=dark] .colab-df-convert:hover {\n",
              "      background-color: #434B5C;\n",
              "      box-shadow: 0px 1px 3px 1px rgba(0, 0, 0, 0.15);\n",
              "      filter: drop-shadow(0px 1px 2px rgba(0, 0, 0, 0.3));\n",
              "      fill: #FFFFFF;\n",
              "    }\n",
              "  </style>\n",
              "\n",
              "      <script>\n",
              "        const buttonEl =\n",
              "          document.querySelector('#df-e397ef62-d9d8-4df0-b825-a6e80eb12bf6 button.colab-df-convert');\n",
              "        buttonEl.style.display =\n",
              "          google.colab.kernel.accessAllowed ? 'block' : 'none';\n",
              "\n",
              "        async function convertToInteractive(key) {\n",
              "          const element = document.querySelector('#df-e397ef62-d9d8-4df0-b825-a6e80eb12bf6');\n",
              "          const dataTable =\n",
              "            await google.colab.kernel.invokeFunction('convertToInteractive',\n",
              "                                                     [key], {});\n",
              "          if (!dataTable) return;\n",
              "\n",
              "          const docLinkHtml = 'Like what you see? Visit the ' +\n",
              "            '<a target=\"_blank\" href=https://colab.research.google.com/notebooks/data_table.ipynb>data table notebook</a>'\n",
              "            + ' to learn more about interactive tables.';\n",
              "          element.innerHTML = '';\n",
              "          dataTable['output_type'] = 'display_data';\n",
              "          await google.colab.output.renderOutput(dataTable, element);\n",
              "          const docLink = document.createElement('div');\n",
              "          docLink.innerHTML = docLinkHtml;\n",
              "          element.appendChild(docLink);\n",
              "        }\n",
              "      </script>\n",
              "    </div>\n",
              "  </div>\n",
              "  "
            ]
          },
          "metadata": {},
          "execution_count": 67
        }
      ]
    },
    {
      "cell_type": "code",
      "source": [
        "x_df = df.Message_body\n",
        "y_df = df.Label"
      ],
      "metadata": {
        "id": "KQwn7TRKoT5c"
      },
      "execution_count": 86,
      "outputs": []
    },
    {
      "cell_type": "markdown",
      "source": [
        "Displaying the distribution of data. (Spam vs. Non-Spam)"
      ],
      "metadata": {
        "id": "gvYMwxaC19Aa"
      }
    },
    {
      "cell_type": "code",
      "source": [
        "fig = plt.figure(figsize=(5,5))\n",
        "sns.countplot(x='Label', data=df)"
      ],
      "metadata": {
        "colab": {
          "base_uri": "https://localhost:8080/",
          "height": 352
        },
        "id": "ZygKqg7d1g93",
        "outputId": "279c7214-4bf1-4724-9930-41b0c287eb12"
      },
      "execution_count": 87,
      "outputs": [
        {
          "output_type": "execute_result",
          "data": {
            "text/plain": [
              "<matplotlib.axes._subplots.AxesSubplot at 0x7fb10b6ddc50>"
            ]
          },
          "metadata": {},
          "execution_count": 87
        },
        {
          "output_type": "display_data",
          "data": {
            "text/plain": [
              "<Figure size 360x360 with 1 Axes>"
            ],
            "image/png": "[encoded data removed]"
          },
          "metadata": {
            "needs_background": "light"
          }
        }
      ]
    },
    {
      "cell_type": "code",
      "source": [
        "# some text cleaning functions\n",
        "def convert_to_lower(text):\n",
        "    return text.lower()\n",
        "\n",
        "def remove_numbers(text):\n",
        "    number_pattern = r'\\d+'\n",
        "    without_number = re.sub(pattern=number_pattern, repl=\" \", string=text)\n",
        "    return without_number\n",
        "\n",
        "def lemmatizing(text):\n",
        "    lemmatizer = WordNetLemmatizer()\n",
        "    tokens = word_tokenize(text)\n",
        "    for i in range(len(tokens)):\n",
        "        lemma_word = lemmatizer.lemmatize(tokens[i])\n",
        "        tokens[i] = lemma_word\n",
        "    return \" \".join(tokens)\n",
        "\n",
        "def remove_punctuation(text):\n",
        "    return text.translate(str.maketrans('', '', string.punctuation))\n",
        "\n",
        "def remove_stopwords(text):\n",
        "    removed = []\n",
        "    stop_words = list(stopwords.words(\"english\"))\n",
        "    tokens = word_tokenize(text)\n",
        "    for i in range(len(tokens)):\n",
        "        if tokens[i] not in stop_words:\n",
        "            removed.append(tokens[i])\n",
        "    return \" \".join(removed)\n",
        "\n",
        "def remove_extra_white_spaces(text):\n",
        "    single_char_pattern = r'\\s+[a-zA-Z]\\s+'\n",
        "    without_sc = re.sub(pattern=single_char_pattern, repl=\" \", string=text)\n",
        "    return without_sc"
      ],
      "metadata": {
        "id": "ImXVDtFF5U_h"
      },
      "execution_count": 70,
      "outputs": []
    },
    {
      "cell_type": "markdown",
      "source": [
        "3. Clean Text"
      ],
      "metadata": {
        "id": "2ZguAVUAJ5Lr"
      }
    },
    {
      "cell_type": "code",
      "source": [
        "df['Message_body'] = df['Message_body'].apply(lambda x: convert_to_lower(x))\n",
        "df['Message_body'] = df['Message_body'].apply(lambda x: remove_numbers(x))\n",
        "df['Message_body'] = df['Message_body'].apply(lambda x: remove_punctuation(x))\n",
        "df['Message_body'] = df['Message_body'].apply(lambda x: remove_stopwords(x))\n",
        "df['Message_body'] = df['Message_body'].apply(lambda x: remove_extra_white_spaces(x))\n",
        "df['Message_body'] = df['Message_body'].apply(lambda x: lemmatizing(x))"
      ],
      "metadata": {
        "id": "5m7Oq5Hl5YWl"
      },
      "execution_count": 82,
      "outputs": []
    },
    {
      "cell_type": "code",
      "source": [
        "df['length_after_cleaning'] = df['Message_body'].apply(lambda x: len(x))\n",
        "df.head()"
      ],
      "metadata": {
        "colab": {
          "base_uri": "https://localhost:8080/",
          "height": 354
        },
        "id": "E8qcqJUn6AID",
        "outputId": "18829186-c0f3-47f1-8c7d-b074267a5b85"
      },
      "execution_count": 83,
      "outputs": [
        {
          "output_type": "execute_result",
          "data": {
            "text/plain": [
              "   S. No.                                       Message_body     Label  \\\n",
              "0       1                                     rofl true name  Non-Spam   \n",
              "1       2  guy bitching acted like id interested buying s...  Non-Spam   \n",
              "2       3                         pity mood soany suggestion  Non-Spam   \n",
              "3       4                          ü going esplanade fr home  Non-Spam   \n",
              "4       5  nd time tried contact u £ pound prize claim ea...      Spam   \n",
              "\n",
              "   length  length_after_cleaning  \n",
              "0      26                     14  \n",
              "1     125                     81  \n",
              "2      57                     26  \n",
              "3      36                     25  \n",
              "4     160                     79  "
            ],
            "text/html": [
              "\n",
              "  <div id=\"df-fd2eca58-dcdc-403d-94de-1411bbd72f43\">\n",
              "    <div class=\"colab-df-container\">\n",
              "      <div>\n",
              "<style scoped>\n",
              "    .dataframe tbody tr th:only-of-type {\n",
              "        vertical-align: middle;\n",
              "    }\n",
              "\n",
              "    .dataframe tbody tr th {\n",
              "        vertical-align: top;\n",
              "    }\n",
              "\n",
              "    .dataframe thead th {\n",
              "        text-align: right;\n",
              "    }\n",
              "</style>\n",
              "<table border=\"1\" class=\"dataframe\">\n",
              "  <thead>\n",
              "    <tr style=\"text-align: right;\">\n",
              "      <th></th>\n",
              "      <th>S. No.</th>\n",
              "      <th>Message_body</th>\n",
              "      <th>Label</th>\n",
              "      <th>length</th>\n",
              "      <th>length_after_cleaning</th>\n",
              "    </tr>\n",
              "  </thead>\n",
              "  <tbody>\n",
              "    <tr>\n",
              "      <th>0</th>\n",
              "      <td>1</td>\n",
              "      <td>rofl true name</td>\n",
              "      <td>Non-Spam</td>\n",
              "      <td>26</td>\n",
              "      <td>14</td>\n",
              "    </tr>\n",
              "    <tr>\n",
              "      <th>1</th>\n",
              "      <td>2</td>\n",
              "      <td>guy bitching acted like id interested buying s...</td>\n",
              "      <td>Non-Spam</td>\n",
              "      <td>125</td>\n",
              "      <td>81</td>\n",
              "    </tr>\n",
              "    <tr>\n",
              "      <th>2</th>\n",
              "      <td>3</td>\n",
              "      <td>pity mood soany suggestion</td>\n",
              "      <td>Non-Spam</td>\n",
              "      <td>57</td>\n",
              "      <td>26</td>\n",
              "    </tr>\n",
              "    <tr>\n",
              "      <th>3</th>\n",
              "      <td>4</td>\n",
              "      <td>ü going esplanade fr home</td>\n",
              "      <td>Non-Spam</td>\n",
              "      <td>36</td>\n",
              "      <td>25</td>\n",
              "    </tr>\n",
              "    <tr>\n",
              "      <th>4</th>\n",
              "      <td>5</td>\n",
              "      <td>nd time tried contact u £ pound prize claim ea...</td>\n",
              "      <td>Spam</td>\n",
              "      <td>160</td>\n",
              "      <td>79</td>\n",
              "    </tr>\n",
              "  </tbody>\n",
              "</table>\n",
              "</div>\n",
              "      <button class=\"colab-df-convert\" onclick=\"convertToInteractive('df-fd2eca58-dcdc-403d-94de-1411bbd72f43')\"\n",
              "              title=\"Convert this dataframe to an interactive table.\"\n",
              "              style=\"display:none;\">\n",
              "        \n",
              "  <svg xmlns=\"http://www.w3.org/2000/svg\" height=\"24px\"viewBox=\"0 0 24 24\"\n",
              "       width=\"24px\">\n",
              "    <path d=\"M0 0h24v24H0V0z\" fill=\"none\"/>\n",
              "    <path d=\"M18.56 5.44l.94 2.06.94-2.06 2.06-.94-2.06-.94-.94-2.06-.94 2.06-2.06.94zm-11 1L8.5 8.5l.94-2.06 2.06-.94-2.06-.94L8.5 2.5l-.94 2.06-2.06.94zm10 10l.94 2.06.94-2.06 2.06-.94-2.06-.94-.94-2.06-.94 2.06-2.06.94z\"/><path d=\"M17.41 7.96l-1.37-1.37c-.4-.4-.92-.59-1.43-.59-.52 0-1.04.2-1.43.59L10.3 9.45l-7.72 7.72c-.78.78-.78 2.05 0 2.83L4 21.41c.39.39.9.59 1.41.59.51 0 1.02-.2 1.41-.59l7.78-7.78 2.81-2.81c.8-.78.8-2.07 0-2.86zM5.41 20L4 18.59l7.72-7.72 1.47 1.35L5.41 20z\"/>\n",
              "  </svg>\n",
              "      </button>\n",
              "      \n",
              "  <style>\n",
              "    .colab-df-container {\n",
              "      display:flex;\n",
              "      flex-wrap:wrap;\n",
              "      gap: 12px;\n",
              "    }\n",
              "\n",
              "    .colab-df-convert {\n",
              "      background-color: #E8F0FE;\n",
              "      border: none;\n",
              "      border-radius: 50%;\n",
              "      cursor: pointer;\n",
              "      display: none;\n",
              "      fill: #1967D2;\n",
              "      height: 32px;\n",
              "      padding: 0 0 0 0;\n",
              "      width: 32px;\n",
              "    }\n",
              "\n",
              "    .colab-df-convert:hover {\n",
              "      background-color: #E2EBFA;\n",
              "      box-shadow: 0px 1px 2px rgba(60, 64, 67, 0.3), 0px 1px 3px 1px rgba(60, 64, 67, 0.15);\n",
              "      fill: #174EA6;\n",
              "    }\n",
              "\n",
              "    [theme=dark] .colab-df-convert {\n",
              "      background-color: #3B4455;\n",
              "      fill: #D2E3FC;\n",
              "    }\n",
              "\n",
              "    [theme=dark] .colab-df-convert:hover {\n",
              "      background-color: #434B5C;\n",
              "      box-shadow: 0px 1px 3px 1px rgba(0, 0, 0, 0.15);\n",
              "      filter: drop-shadow(0px 1px 2px rgba(0, 0, 0, 0.3));\n",
              "      fill: #FFFFFF;\n",
              "    }\n",
              "  </style>\n",
              "\n",
              "      <script>\n",
              "        const buttonEl =\n",
              "          document.querySelector('#df-fd2eca58-dcdc-403d-94de-1411bbd72f43 button.colab-df-convert');\n",
              "        buttonEl.style.display =\n",
              "          google.colab.kernel.accessAllowed ? 'block' : 'none';\n",
              "\n",
              "        async function convertToInteractive(key) {\n",
              "          const element = document.querySelector('#df-fd2eca58-dcdc-403d-94de-1411bbd72f43');\n",
              "          const dataTable =\n",
              "            await google.colab.kernel.invokeFunction('convertToInteractive',\n",
              "                                                     [key], {});\n",
              "          if (!dataTable) return;\n",
              "\n",
              "          const docLinkHtml = 'Like what you see? Visit the ' +\n",
              "            '<a target=\"_blank\" href=https://colab.research.google.com/notebooks/data_table.ipynb>data table notebook</a>'\n",
              "            + ' to learn more about interactive tables.';\n",
              "          element.innerHTML = '';\n",
              "          dataTable['output_type'] = 'display_data';\n",
              "          await google.colab.output.renderOutput(dataTable, element);\n",
              "          const docLink = document.createElement('div');\n",
              "          docLink.innerHTML = docLinkHtml;\n",
              "          element.appendChild(docLink);\n",
              "        }\n",
              "      </script>\n",
              "    </div>\n",
              "  </div>\n",
              "  "
            ]
          },
          "metadata": {},
          "execution_count": 83
        }
      ]
    },
    {
      "cell_type": "code",
      "source": [
        "# converting string labels to int labels\n",
        "\n",
        "label_map = {\n",
        "    'Non-Spam': 0,\n",
        "    'Spam': 1,\n",
        "}\n",
        "\n",
        "df['Label_value'] = df['Label'].map(label_map)\n",
        "df.head()"
      ],
      "metadata": {
        "colab": {
          "base_uri": "https://localhost:8080/",
          "height": 354
        },
        "id": "HYECzMCu6FZu",
        "outputId": "c7d8659e-5201-4152-db1b-935404cda5d8"
      },
      "execution_count": 84,
      "outputs": [
        {
          "output_type": "execute_result",
          "data": {
            "text/plain": [
              "   S. No.                                       Message_body     Label  \\\n",
              "0       1                                     rofl true name  Non-Spam   \n",
              "1       2  guy bitching acted like id interested buying s...  Non-Spam   \n",
              "2       3                         pity mood soany suggestion  Non-Spam   \n",
              "3       4                          ü going esplanade fr home  Non-Spam   \n",
              "4       5  nd time tried contact u £ pound prize claim ea...      Spam   \n",
              "\n",
              "   length  length_after_cleaning  Label_value  \n",
              "0      26                     14            0  \n",
              "1     125                     81            0  \n",
              "2      57                     26            0  \n",
              "3      36                     25            0  \n",
              "4     160                     79            1  "
            ],
            "text/html": [
              "\n",
              "  <div id=\"df-cb4cf488-88b3-4d98-8ddb-53ff410dfdeb\">\n",
              "    <div class=\"colab-df-container\">\n",
              "      <div>\n",
              "<style scoped>\n",
              "    .dataframe tbody tr th:only-of-type {\n",
              "        vertical-align: middle;\n",
              "    }\n",
              "\n",
              "    .dataframe tbody tr th {\n",
              "        vertical-align: top;\n",
              "    }\n",
              "\n",
              "    .dataframe thead th {\n",
              "        text-align: right;\n",
              "    }\n",
              "</style>\n",
              "<table border=\"1\" class=\"dataframe\">\n",
              "  <thead>\n",
              "    <tr style=\"text-align: right;\">\n",
              "      <th></th>\n",
              "      <th>S. No.</th>\n",
              "      <th>Message_body</th>\n",
              "      <th>Label</th>\n",
              "      <th>length</th>\n",
              "      <th>length_after_cleaning</th>\n",
              "      <th>Label_value</th>\n",
              "    </tr>\n",
              "  </thead>\n",
              "  <tbody>\n",
              "    <tr>\n",
              "      <th>0</th>\n",
              "      <td>1</td>\n",
              "      <td>rofl true name</td>\n",
              "      <td>Non-Spam</td>\n",
              "      <td>26</td>\n",
              "      <td>14</td>\n",
              "      <td>0</td>\n",
              "    </tr>\n",
              "    <tr>\n",
              "      <th>1</th>\n",
              "      <td>2</td>\n",
              "      <td>guy bitching acted like id interested buying s...</td>\n",
              "      <td>Non-Spam</td>\n",
              "      <td>125</td>\n",
              "      <td>81</td>\n",
              "      <td>0</td>\n",
              "    </tr>\n",
              "    <tr>\n",
              "      <th>2</th>\n",
              "      <td>3</td>\n",
              "      <td>pity mood soany suggestion</td>\n",
              "      <td>Non-Spam</td>\n",
              "      <td>57</td>\n",
              "      <td>26</td>\n",
              "      <td>0</td>\n",
              "    </tr>\n",
              "    <tr>\n",
              "      <th>3</th>\n",
              "      <td>4</td>\n",
              "      <td>ü going esplanade fr home</td>\n",
              "      <td>Non-Spam</td>\n",
              "      <td>36</td>\n",
              "      <td>25</td>\n",
              "      <td>0</td>\n",
              "    </tr>\n",
              "    <tr>\n",
              "      <th>4</th>\n",
              "      <td>5</td>\n",
              "      <td>nd time tried contact u £ pound prize claim ea...</td>\n",
              "      <td>Spam</td>\n",
              "      <td>160</td>\n",
              "      <td>79</td>\n",
              "      <td>1</td>\n",
              "    </tr>\n",
              "  </tbody>\n",
              "</table>\n",
              "</div>\n",
              "      <button class=\"colab-df-convert\" onclick=\"convertToInteractive('df-cb4cf488-88b3-4d98-8ddb-53ff410dfdeb')\"\n",
              "              title=\"Convert this dataframe to an interactive table.\"\n",
              "              style=\"display:none;\">\n",
              "        \n",
              "  <svg xmlns=\"http://www.w3.org/2000/svg\" height=\"24px\"viewBox=\"0 0 24 24\"\n",
              "       width=\"24px\">\n",
              "    <path d=\"M0 0h24v24H0V0z\" fill=\"none\"/>\n",
              "    <path d=\"M18.56 5.44l.94 2.06.94-2.06 2.06-.94-2.06-.94-.94-2.06-.94 2.06-2.06.94zm-11 1L8.5 8.5l.94-2.06 2.06-.94-2.06-.94L8.5 2.5l-.94 2.06-2.06.94zm10 10l.94 2.06.94-2.06 2.06-.94-2.06-.94-.94-2.06-.94 2.06-2.06.94z\"/><path d=\"M17.41 7.96l-1.37-1.37c-.4-.4-.92-.59-1.43-.59-.52 0-1.04.2-1.43.59L10.3 9.45l-7.72 7.72c-.78.78-.78 2.05 0 2.83L4 21.41c.39.39.9.59 1.41.59.51 0 1.02-.2 1.41-.59l7.78-7.78 2.81-2.81c.8-.78.8-2.07 0-2.86zM5.41 20L4 18.59l7.72-7.72 1.47 1.35L5.41 20z\"/>\n",
              "  </svg>\n",
              "      </button>\n",
              "      \n",
              "  <style>\n",
              "    .colab-df-container {\n",
              "      display:flex;\n",
              "      flex-wrap:wrap;\n",
              "      gap: 12px;\n",
              "    }\n",
              "\n",
              "    .colab-df-convert {\n",
              "      background-color: #E8F0FE;\n",
              "      border: none;\n",
              "      border-radius: 50%;\n",
              "      cursor: pointer;\n",
              "      display: none;\n",
              "      fill: #1967D2;\n",
              "      height: 32px;\n",
              "      padding: 0 0 0 0;\n",
              "      width: 32px;\n",
              "    }\n",
              "\n",
              "    .colab-df-convert:hover {\n",
              "      background-color: #E2EBFA;\n",
              "      box-shadow: 0px 1px 2px rgba(60, 64, 67, 0.3), 0px 1px 3px 1px rgba(60, 64, 67, 0.15);\n",
              "      fill: #174EA6;\n",
              "    }\n",
              "\n",
              "    [theme=dark] .colab-df-convert {\n",
              "      background-color: #3B4455;\n",
              "      fill: #D2E3FC;\n",
              "    }\n",
              "\n",
              "    [theme=dark] .colab-df-convert:hover {\n",
              "      background-color: #434B5C;\n",
              "      box-shadow: 0px 1px 3px 1px rgba(0, 0, 0, 0.15);\n",
              "      filter: drop-shadow(0px 1px 2px rgba(0, 0, 0, 0.3));\n",
              "      fill: #FFFFFF;\n",
              "    }\n",
              "  </style>\n",
              "\n",
              "      <script>\n",
              "        const buttonEl =\n",
              "          document.querySelector('#df-cb4cf488-88b3-4d98-8ddb-53ff410dfdeb button.colab-df-convert');\n",
              "        buttonEl.style.display =\n",
              "          google.colab.kernel.accessAllowed ? 'block' : 'none';\n",
              "\n",
              "        async function convertToInteractive(key) {\n",
              "          const element = document.querySelector('#df-cb4cf488-88b3-4d98-8ddb-53ff410dfdeb');\n",
              "          const dataTable =\n",
              "            await google.colab.kernel.invokeFunction('convertToInteractive',\n",
              "                                                     [key], {});\n",
              "          if (!dataTable) return;\n",
              "\n",
              "          const docLinkHtml = 'Like what you see? Visit the ' +\n",
              "            '<a target=\"_blank\" href=https://colab.research.google.com/notebooks/data_table.ipynb>data table notebook</a>'\n",
              "            + ' to learn more about interactive tables.';\n",
              "          element.innerHTML = '';\n",
              "          dataTable['output_type'] = 'display_data';\n",
              "          await google.colab.output.renderOutput(dataTable, element);\n",
              "          const docLink = document.createElement('div');\n",
              "          docLink.innerHTML = docLinkHtml;\n",
              "          element.appendChild(docLink);\n",
              "        }\n",
              "      </script>\n",
              "    </div>\n",
              "  </div>\n",
              "  "
            ]
          },
          "metadata": {},
          "execution_count": 84
        }
      ]
    },
    {
      "cell_type": "markdown",
      "source": [
        "4. Tokenize Text"
      ],
      "metadata": {
        "id": "93v7f_0hJ8VZ"
      }
    },
    {
      "cell_type": "code",
      "source": [
        "#ENTER TOKENIZATION CODE HERE"
      ],
      "metadata": {
        "id": "x-rt2YGqJ-vj"
      },
      "execution_count": null,
      "outputs": []
    },
    {
      "cell_type": "markdown",
      "source": [
        "5. Vectorize Text"
      ],
      "metadata": {
        "id": "kwftmpyfKCKm"
      }
    },
    {
      "cell_type": "code",
      "source": [
        "vectorizer = CountVectorizer()\n",
        "vectorizer.fit(x_df.values.ravel())\n",
        "x_data=vectorizer.transform(x_df.values.ravel())\n",
        "x_data=x_data.toarray()\n"
      ],
      "metadata": {
        "id": "s3_aw0MK6kab"
      },
      "execution_count": 88,
      "outputs": []
    },
    {
      "cell_type": "code",
      "source": [
        "df['Vectorized'] = 'default value'\n",
        "cv = CountVectorizer()\n",
        "for i in range(0,len(df)):\n",
        "    cv.fit_transform(df['Message_body'])\n",
        "    df['Vectorized'][i] = cv.vocabulary_"
      ],
      "metadata": {
        "id": "IhCLwW6m_gEK"
      },
      "execution_count": null,
      "outputs": []
    },
    {
      "cell_type": "code",
      "source": [
        "df.Vectorized.head()"
      ],
      "metadata": {
        "colab": {
          "base_uri": "https://localhost:8080/"
        },
        "id": "M4iiF4N-AwuJ",
        "outputId": "46784bf3-155c-4751-a437-d413f2597d49"
      },
      "execution_count": 113,
      "outputs": [
        {
          "output_type": "execute_result",
          "data": {
            "text/plain": [
              "0    {'rofl': 1959, 'true': 2447, 'name': 1518, 'gu...\n",
              "1    {'rofl': 1959, 'true': 2447, 'name': 1518, 'gu...\n",
              "2    {'rofl': 1959, 'true': 2447, 'name': 1518, 'gu...\n",
              "3    {'rofl': 1959, 'true': 2447, 'name': 1518, 'gu...\n",
              "4    {'rofl': 1959, 'true': 2447, 'name': 1518, 'gu...\n",
              "Name: Vectorized, dtype: object"
            ]
          },
          "metadata": {},
          "execution_count": 113
        }
      ]
    },
    {
      "cell_type": "markdown",
      "source": [
        "6. Balance the Dataset"
      ],
      "metadata": {
        "id": "ORVTBn41KGBN"
      }
    },
    {
      "cell_type": "code",
      "source": [
        "x_data = pd.DataFrame(x_data)\n",
        "sm = SMOTE(sampling_strategy='minority', random_state=1337)\n",
        "x_res, y_res = sm.fit_resample(x_data, y_df)"
      ],
      "metadata": {
        "id": "ZumaKerI7R16"
      },
      "execution_count": 115,
      "outputs": []
    },
    {
      "cell_type": "code",
      "source": [
        "y_res.value_counts()"
      ],
      "metadata": {
        "colab": {
          "base_uri": "https://localhost:8080/"
        },
        "id": "tZHLryaLDJnP",
        "outputId": "4046ee17-b5b7-46f5-bb00-12d75f0d864c"
      },
      "execution_count": 116,
      "outputs": [
        {
          "output_type": "execute_result",
          "data": {
            "text/plain": [
              "Non-Spam    835\n",
              "Spam        835\n",
              "Name: Label, dtype: int64"
            ]
          },
          "metadata": {},
          "execution_count": 116
        }
      ]
    },
    {
      "cell_type": "markdown",
      "source": [
        "Notice here we have now an even dataset, both categories have 835 data points."
      ],
      "metadata": {
        "id": "62lSyn4dEvty"
      }
    },
    {
      "cell_type": "code",
      "source": [
        "y_res.value_counts().plot(kind='bar', color=['purple', 'blue'])"
      ],
      "metadata": {
        "colab": {
          "base_uri": "https://localhost:8080/",
          "height": 325
        },
        "id": "C-L0dGqzD_OS",
        "outputId": "5d50d51a-94aa-4d13-cb24-daeedc22dc3a"
      },
      "execution_count": 123,
      "outputs": [
        {
          "output_type": "execute_result",
          "data": {
            "text/plain": [
              "<matplotlib.axes._subplots.AxesSubplot at 0x7fb108685e90>"
            ]
          },
          "metadata": {},
          "execution_count": 123
        },
        {
          "output_type": "display_data",
          "data": {
            "text/plain": [
              "<Figure size 432x288 with 1 Axes>"
            ],
            "image/png": "[encoded data removed]"
          },
          "metadata": {
            "needs_background": "light"
          }
        }
      ]
    },
    {
      "cell_type": "code",
      "source": [
        "# !wget http://downloads.cs.stanford.edu/nlp/data/glove.6B.zip"
      ],
      "metadata": {
        "colab": {
          "base_uri": "https://localhost:8080/"
        },
        "id": "finNsr7Fpn0N",
        "outputId": "68b6a564-db93-41f0-aa2f-cdf76d78944b"
      },
      "execution_count": 40,
      "outputs": [
        {
          "output_type": "stream",
          "name": "stdout",
          "text": [
            "--2022-07-28 21:11:35--  http://downloads.cs.stanford.edu/nlp/data/glove.6B.zip\n",
            "Resolving downloads.cs.stanford.edu (downloads.cs.stanford.edu)... 171.64.64.22\n",
            "Connecting to downloads.cs.stanford.edu (downloads.cs.stanford.edu)|171.64.64.22|:80... connected.\n",
            "HTTP request sent, awaiting response... 200 OK\n",
            "Length: 862182613 (822M) [application/zip]\n",
            "Saving to: ‘glove.6B.zip’\n",
            "\n",
            "glove.6B.zip        100%[===================>] 822.24M  4.81MB/s    in 2m 40s  \n",
            "\n",
            "2022-07-28 21:14:16 (5.13 MB/s) - ‘glove.6B.zip’ saved [862182613/862182613]\n",
            "\n"
          ]
        }
      ]
    },
    {
      "cell_type": "code",
      "source": [
        "# !unzip glove.6B.zip"
      ],
      "metadata": {
        "colab": {
          "base_uri": "https://localhost:8080/"
        },
        "id": "dCbAN1P7psGG",
        "outputId": "69e95f9f-e7ef-46f7-8df1-7a7e66390628"
      },
      "execution_count": 41,
      "outputs": [
        {
          "output_type": "stream",
          "name": "stdout",
          "text": [
            "Archive:  glove.6B.zip\n",
            "  inflating: glove.6B.50d.txt        \n",
            "  inflating: glove.6B.100d.txt       \n",
            "  inflating: glove.6B.200d.txt       \n",
            "  inflating: glove.6B.300d.txt       \n"
          ]
        }
      ]
    },
    {
      "cell_type": "code",
      "source": [
        "# words = dict()\n",
        "\n",
        "# def add_to_dict(d, filename):\n",
        "#   with open(filename, 'r') as f:\n",
        "#     for line in f.readlines():\n",
        "#       line = line.split(' ')\n",
        "\n",
        "#       try:\n",
        "#         d[line[0]] = np.array(line[1:], dtype=float)\n",
        "#       except:\n",
        "#         continue\n",
        "\n",
        "# add_to_dict(words, 'glove.6B.50d.txt')\n",
        "# words"
      ],
      "metadata": {
        "id": "1poxCLSEpvpT"
      },
      "execution_count": null,
      "outputs": []
    },
    {
      "cell_type": "code",
      "source": [
        "# len(words)"
      ],
      "metadata": {
        "colab": {
          "base_uri": "https://localhost:8080/"
        },
        "id": "4yFADxu7p09Y",
        "outputId": "28fb3adc-c5ea-4109-9e5f-5720b8502eb7"
      },
      "execution_count": 43,
      "outputs": [
        {
          "output_type": "execute_result",
          "data": {
            "text/plain": [
              "400000"
            ]
          },
          "metadata": {},
          "execution_count": 43
        }
      ]
    },
    {
      "cell_type": "code",
      "source": [
        "# nltk.download('wordnet')"
      ],
      "metadata": {
        "colab": {
          "base_uri": "https://localhost:8080/"
        },
        "id": "7iPIwpBQp7Vc",
        "outputId": "9001979d-9fc8-48b3-8180-7fd86512dbcf"
      },
      "execution_count": 44,
      "outputs": [
        {
          "output_type": "stream",
          "name": "stderr",
          "text": [
            "[nltk_data] Downloading package wordnet to /root/nltk_data...\n"
          ]
        },
        {
          "output_type": "execute_result",
          "data": {
            "text/plain": [
              "True"
            ]
          },
          "metadata": {},
          "execution_count": 44
        }
      ]
    },
    {
      "cell_type": "code",
      "source": [
        "# tokenizer = nltk.RegexpTokenizer(r\"\\w+\")\n",
        "\n",
        "# tokenizer.tokenize('@user when a father is dysfunctional and is')"
      ],
      "metadata": {
        "colab": {
          "base_uri": "https://localhost:8080/"
        },
        "id": "B7UxwHwGqmPV",
        "outputId": "c8fda829-a301-4b55-a26a-01bb451506a9"
      },
      "execution_count": 45,
      "outputs": [
        {
          "output_type": "execute_result",
          "data": {
            "text/plain": [
              "['user', 'when', 'a', 'father', 'is', 'dysfunctional', 'and', 'is']"
            ]
          },
          "metadata": {},
          "execution_count": 45
        }
      ]
    },
    {
      "cell_type": "code",
      "source": [
        "# nltk.download('omw-1.4')"
      ],
      "metadata": {
        "colab": {
          "base_uri": "https://localhost:8080/"
        },
        "id": "AshU-105rD_J",
        "outputId": "2b8e6d40-cb81-4356-dc5d-b29bc98f786d"
      },
      "execution_count": 48,
      "outputs": [
        {
          "output_type": "stream",
          "name": "stderr",
          "text": [
            "[nltk_data] Downloading package omw-1.4 to /root/nltk_data...\n"
          ]
        },
        {
          "output_type": "execute_result",
          "data": {
            "text/plain": [
              "True"
            ]
          },
          "metadata": {},
          "execution_count": 48
        }
      ]
    },
    {
      "cell_type": "code",
      "source": [
        "# lemmatizer = WordNetLemmatizer()\n",
        "\n",
        "# lemmatizer.lemmatize('feet')\n",
        "\n",
        "# def message_to_token_list(s):\n",
        "#   tokens = tokenizer.tokenize(s)\n",
        "#   lowercased_tokens = [t.lower() for t in tokens]\n",
        "#   lemmatized_tokens = [lemmatizer.lemmatize(t) for t in lowercased_tokens]\n",
        "#   useful_tokens = [t for t in lemmatized_tokens if t in words]\n",
        "\n",
        "#   return useful_tokens\n",
        "\n",
        "# message_to_token_list('@user feet a fathers is dysfunctional and is')"
      ],
      "metadata": {
        "colab": {
          "base_uri": "https://localhost:8080/"
        },
        "id": "EcxJHSUoqpvT",
        "outputId": "06eabd33-7ff1-402a-c87e-1a881aa82827"
      },
      "execution_count": 49,
      "outputs": [
        {
          "output_type": "execute_result",
          "data": {
            "text/plain": [
              "['user', 'foot', 'a', 'father', 'is', 'dysfunctional', 'and', 'is']"
            ]
          },
          "metadata": {},
          "execution_count": 49
        }
      ]
    },
    {
      "cell_type": "code",
      "source": [
        "# def message_to_word_vectors(message, word_dict=words):\n",
        "#   processed_list_of_tokens = message_to_token_list(message)\n",
        "\n",
        "#   vectors = []\n",
        "\n",
        "#   for token in processed_list_of_tokens:\n",
        "#     if token not in word_dict:\n",
        "#       continue\n",
        "    \n",
        "#     token_vector = word_dict[token]\n",
        "#     vectors.append(token_vector)\n",
        "  \n",
        "#   return np.array(vectors, dtype=float)"
      ],
      "metadata": {
        "id": "J5ILcCCbrK-M"
      },
      "execution_count": 50,
      "outputs": []
    },
    {
      "cell_type": "code",
      "source": [
        "# message_to_word_vectors('@user when a father is dysfunctional and is').shape"
      ],
      "metadata": {
        "colab": {
          "base_uri": "https://localhost:8080/"
        },
        "id": "SFfVNwVurNYP",
        "outputId": "d1ef8029-fe23-4251-cde1-d3d78f5df4d7"
      },
      "execution_count": 51,
      "outputs": [
        {
          "output_type": "execute_result",
          "data": {
            "text/plain": [
              "(8, 50)"
            ]
          },
          "metadata": {},
          "execution_count": 51
        }
      ]
    },
    {
      "cell_type": "code",
      "source": [
        "x_train, x_rem, y_train, y_rem = train_test_split(x_train_df,y_train_df, train_size=0.7, random_state=1337)\n",
        "\n",
        "# Now since we want the valid  size to be equal (20% of overall data). \n",
        "# We take 33.33% of the remaining data and the other 66.67% will be 20 % of the original training set for our validation set.\n",
        "# So the overal percentaes are training=70%, validation=20%, testing=10%\n",
        "x_val, x_test, y_val, y_test = train_test_split(x_rem,y_rem, test_size=0.3333, random_state=1337)"
      ],
      "metadata": {
        "id": "Rp47CIxgruyT"
      },
      "execution_count": 57,
      "outputs": []
    }
  ]
}